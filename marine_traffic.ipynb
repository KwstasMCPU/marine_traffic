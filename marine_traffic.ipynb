{
 "cells": [
  {
   "cell_type": "code",
   "execution_count": 15,
   "metadata": {},
   "outputs": [],
   "source": [
    "import numpy as np\n",
    "import pandas as pd\n",
    "import matplotlib.pyplot as plt\n",
    "import seaborn as sns"
   ]
  },
  {
   "cell_type": "code",
   "execution_count": 64,
   "metadata": {},
   "outputs": [],
   "source": [
    "sns.set_style('darkgrid')"
   ]
  },
  {
   "cell_type": "code",
   "execution_count": 3,
   "metadata": {},
   "outputs": [],
   "source": [
    "%matplotlib inline"
   ]
  },
  {
   "cell_type": "code",
   "execution_count": 6,
   "metadata": {},
   "outputs": [],
   "source": [
    "# loading the .xlsx to a pandas dataframe\n",
    "vessel_df = pd.read_excel('particulars_dataset_jda_assignment.xlsx')"
   ]
  },
  {
   "cell_type": "markdown",
   "metadata": {},
   "source": [
    "## EDA"
   ]
  },
  {
   "cell_type": "code",
   "execution_count": 7,
   "metadata": {},
   "outputs": [
    {
     "data": {
      "text/html": [
       "<div>\n",
       "<style scoped>\n",
       "    .dataframe tbody tr th:only-of-type {\n",
       "        vertical-align: middle;\n",
       "    }\n",
       "\n",
       "    .dataframe tbody tr th {\n",
       "        vertical-align: top;\n",
       "    }\n",
       "\n",
       "    .dataframe thead th {\n",
       "        text-align: right;\n",
       "    }\n",
       "</style>\n",
       "<table border=\"1\" class=\"dataframe\">\n",
       "  <thead>\n",
       "    <tr style=\"text-align: right;\">\n",
       "      <th></th>\n",
       "      <th>IMO</th>\n",
       "      <th>SHIP_ID</th>\n",
       "      <th>TEU</th>\n",
       "      <th>PORT_NAME</th>\n",
       "      <th>TIMESTAMP</th>\n",
       "    </tr>\n",
       "  </thead>\n",
       "  <tbody>\n",
       "    <tr>\n",
       "      <th>0</th>\n",
       "      <td>9784269</td>\n",
       "      <td>5098185</td>\n",
       "      <td>15226</td>\n",
       "      <td>A</td>\n",
       "      <td>2019-01-01</td>\n",
       "    </tr>\n",
       "    <tr>\n",
       "      <th>1</th>\n",
       "      <td>9795622</td>\n",
       "      <td>5640800</td>\n",
       "      <td>21237</td>\n",
       "      <td>A</td>\n",
       "      <td>2019-01-01</td>\n",
       "    </tr>\n",
       "    <tr>\n",
       "      <th>2</th>\n",
       "      <td>9811000</td>\n",
       "      <td>5631605</td>\n",
       "      <td>20000</td>\n",
       "      <td>A</td>\n",
       "      <td>2019-01-01</td>\n",
       "    </tr>\n",
       "    <tr>\n",
       "      <th>3</th>\n",
       "      <td>9619983</td>\n",
       "      <td>157413</td>\n",
       "      <td>18270</td>\n",
       "      <td>A</td>\n",
       "      <td>2019-01-02</td>\n",
       "    </tr>\n",
       "    <tr>\n",
       "      <th>4</th>\n",
       "      <td>9695121</td>\n",
       "      <td>994728</td>\n",
       "      <td>19000</td>\n",
       "      <td>B</td>\n",
       "      <td>2019-01-02</td>\n",
       "    </tr>\n",
       "  </tbody>\n",
       "</table>\n",
       "</div>"
      ],
      "text/plain": [
       "       IMO  SHIP_ID    TEU PORT_NAME  TIMESTAMP\n",
       "0  9784269  5098185  15226         A 2019-01-01\n",
       "1  9795622  5640800  21237         A 2019-01-01\n",
       "2  9811000  5631605  20000         A 2019-01-01\n",
       "3  9619983   157413  18270         A 2019-01-02\n",
       "4  9695121   994728  19000         B 2019-01-02"
      ]
     },
     "execution_count": 7,
     "metadata": {},
     "output_type": "execute_result"
    }
   ],
   "source": [
    "vessel_df.head(5)"
   ]
  },
  {
   "cell_type": "code",
   "execution_count": 8,
   "metadata": {},
   "outputs": [
    {
     "name": "stdout",
     "output_type": "stream",
     "text": [
      "<class 'pandas.core.frame.DataFrame'>\n",
      "RangeIndex: 1202 entries, 0 to 1201\n",
      "Data columns (total 5 columns):\n",
      " #   Column     Non-Null Count  Dtype         \n",
      "---  ------     --------------  -----         \n",
      " 0   IMO        1202 non-null   int64         \n",
      " 1   SHIP_ID    1202 non-null   int64         \n",
      " 2   TEU        1202 non-null   int64         \n",
      " 3   PORT_NAME  1202 non-null   object        \n",
      " 4   TIMESTAMP  1202 non-null   datetime64[ns]\n",
      "dtypes: datetime64[ns](1), int64(3), object(1)\n",
      "memory usage: 47.1+ KB\n"
     ]
    }
   ],
   "source": [
    "vessel_df.info()"
   ]
  },
  {
   "cell_type": "markdown",
   "metadata": {},
   "source": [
    "Our dataset consists of 5 columns and 1202 rows. The row names are **IMO**, **SHIP_ID**, **TEU**, **PORT_NAME**, and **TIMESTAMP**.<br>\n",
    "\n",
    "In more details:\n",
    "\n",
    "1. **IMO**: refers to the IMO number of ships which is a unique identifier for ships\n",
    "2. **SHIP_ID**: probably refers to a unique identifier set by marine traffic\n",
    "3. **TEU**: stands for twenty-foot equivalent unit, and refers to the cargo capacity of a container vessel, meaning how many TEU a container vessel could carry.\n",
    "4. **PORT_NAME**: refers to the 4 container ports\n",
    "5. **TIMESTAMP**: refers to the date of arrival of the Ultra large container vessels"
   ]
  },
  {
   "cell_type": "code",
   "execution_count": 23,
   "metadata": {},
   "outputs": [
    {
     "data": {
      "image/png": "[encoded data removed]",
      "text/plain": [
       "<Figure size 720x288 with 1 Axes>"
      ]
     },
     "metadata": {
      "needs_background": "light"
     },
     "output_type": "display_data"
    }
   ],
   "source": [
    "# checking for missing values\n",
    "fig = plt.figure(figsize=(10,4))\n",
    "ax1 = fig.add_subplot(1,1,1)\n",
    "sns.heatmap(vessel_df.isnull(),yticklabels=False,cbar=False,cmap='viridis', ax = ax1)\n",
    "ax1.tick_params(axis='x', labelsize=13, rotation = 45)\n",
    "ax1.set_title('ULCVs data');"
   ]
  },
  {
   "cell_type": "code",
   "execution_count": 22,
   "metadata": {},
   "outputs": [
    {
     "data": {
      "text/plain": [
       "IMO          0\n",
       "SHIP_ID      0\n",
       "TEU          0\n",
       "PORT_NAME    0\n",
       "TIMESTAMP    0\n",
       "dtype: int64"
      ]
     },
     "execution_count": 22,
     "metadata": {},
     "output_type": "execute_result"
    }
   ],
   "source": [
    "vessel_df.isnull().sum()"
   ]
  },
  {
   "cell_type": "markdown",
   "metadata": {},
   "source": [
    "**There are no missing values in our data set**"
   ]
  },
  {
   "cell_type": "markdown",
   "metadata": {},
   "source": [
    "### IMO feature"
   ]
  },
  {
   "cell_type": "code",
   "execution_count": 54,
   "metadata": {},
   "outputs": [
    {
     "data": {
      "text/plain": [
       "1198"
      ]
     },
     "execution_count": 54,
     "metadata": {},
     "output_type": "execute_result"
    }
   ],
   "source": [
    "vessel_df.duplicated(subset=['IMO'], keep=False).sum()"
   ]
  },
  {
   "cell_type": "code",
   "execution_count": 57,
   "metadata": {},
   "outputs": [
    {
     "data": {
      "text/plain": [
       "4"
      ]
     },
     "execution_count": 57,
     "metadata": {},
     "output_type": "execute_result"
    }
   ],
   "source": [
    "(~vessel_df.duplicated(subset=['IMO'], keep=False)).sum()"
   ]
  },
  {
   "cell_type": "code",
   "execution_count": 58,
   "metadata": {},
   "outputs": [
    {
     "data": {
      "text/plain": [
       "173"
      ]
     },
     "execution_count": 58,
     "metadata": {},
     "output_type": "execute_result"
    }
   ],
   "source": [
    "vessel_df['IMO'].nunique()"
   ]
  },
  {
   "cell_type": "code",
   "execution_count": 71,
   "metadata": {},
   "outputs": [
    {
     "data": {
      "image/png": "[encoded data removed]",
      "text/plain": [
       "<Figure size 720x576 with 1 Axes>"
      ]
     },
     "metadata": {},
     "output_type": "display_data"
    }
   ],
   "source": [
    "fig = plt.figure(figsize=(10,8))\n",
    "vessel_df['IMO'].value_counts( ascending=True).iloc[-10:].plot(kind='barh')\n",
    "plt.xticks(np.arange(0,20,2), fontsize=12)\n",
    "plt.title('Number of visits per vessel (at all 4 ports)', fontsize=15)\n",
    "plt.ylabel('IMO number', fontsize=13)\n",
    "plt.yticks(fontsize=12);"
   ]
  },
  {
   "cell_type": "markdown",
   "metadata": {},
   "source": [
    "From the above we notice the following:\n",
    "\n",
    "1. There are 173 unique ULCVs.\n",
    "2. Only 4 ULCVs have visited those ports only once.\n",
    "3. There 4 ULCVs which have visited thise ports a least 17 times."
   ]
  },
  {
   "cell_type": "markdown",
   "metadata": {},
   "source": [
    "#### TEU feature"
   ]
  }
 ],
 "metadata": {
  "kernelspec": {
   "display_name": "marine_traffic_venv",
   "language": "python",
   "name": "marine_traffic_venv"
  },
  "language_info": {
   "codemirror_mode": {
    "name": "ipython",
    "version": 3
   },
   "file_extension": ".py",
   "mimetype": "text/x-python",
   "name": "python",
   "nbconvert_exporter": "python",
   "pygments_lexer": "ipython3",
   "version": "3.9.1"
  }
 },
 "nbformat": 4,
 "nbformat_minor": 4
}
