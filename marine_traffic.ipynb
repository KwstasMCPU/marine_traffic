{
 "cells": [
  {
   "cell_type": "code",
   "execution_count": 1,
   "metadata": {},
   "outputs": [],
   "source": [
    "import numpy as np\n",
    "import pandas as pd\n",
    "import matplotlib.pyplot as plt\n",
    "import seaborn as sns"
   ]
  },
  {
   "cell_type": "code",
   "execution_count": 2,
   "metadata": {},
   "outputs": [],
   "source": [
    "sns.set_style('darkgrid')"
   ]
  },
  {
   "cell_type": "code",
   "execution_count": 3,
   "metadata": {},
   "outputs": [],
   "source": [
    "%matplotlib inline"
   ]
  },
  {
   "cell_type": "code",
   "execution_count": 4,
   "metadata": {},
   "outputs": [],
   "source": [
    "# loading the .xlsx to a pandas dataframe\n",
    "vessel_df = pd.read_excel('particulars_dataset_jda_assignment.xlsx')"
   ]
  },
  {
   "cell_type": "markdown",
   "metadata": {},
   "source": [
    "## EDA"
   ]
  },
  {
   "cell_type": "code",
   "execution_count": 5,
   "metadata": {},
   "outputs": [
    {
     "data": {
      "text/html": [
       "<div>\n",
       "<style scoped>\n",
       "    .dataframe tbody tr th:only-of-type {\n",
       "        vertical-align: middle;\n",
       "    }\n",
       "\n",
       "    .dataframe tbody tr th {\n",
       "        vertical-align: top;\n",
       "    }\n",
       "\n",
       "    .dataframe thead th {\n",
       "        text-align: right;\n",
       "    }\n",
       "</style>\n",
       "<table border=\"1\" class=\"dataframe\">\n",
       "  <thead>\n",
       "    <tr style=\"text-align: right;\">\n",
       "      <th></th>\n",
       "      <th>IMO</th>\n",
       "      <th>SHIP_ID</th>\n",
       "      <th>TEU</th>\n",
       "      <th>PORT_NAME</th>\n",
       "      <th>TIMESTAMP</th>\n",
       "    </tr>\n",
       "  </thead>\n",
       "  <tbody>\n",
       "    <tr>\n",
       "      <th>0</th>\n",
       "      <td>9784269</td>\n",
       "      <td>5098185</td>\n",
       "      <td>15226</td>\n",
       "      <td>A</td>\n",
       "      <td>2019-01-01</td>\n",
       "    </tr>\n",
       "    <tr>\n",
       "      <th>1</th>\n",
       "      <td>9795622</td>\n",
       "      <td>5640800</td>\n",
       "      <td>21237</td>\n",
       "      <td>A</td>\n",
       "      <td>2019-01-01</td>\n",
       "    </tr>\n",
       "    <tr>\n",
       "      <th>2</th>\n",
       "      <td>9811000</td>\n",
       "      <td>5631605</td>\n",
       "      <td>20000</td>\n",
       "      <td>A</td>\n",
       "      <td>2019-01-01</td>\n",
       "    </tr>\n",
       "    <tr>\n",
       "      <th>3</th>\n",
       "      <td>9619983</td>\n",
       "      <td>157413</td>\n",
       "      <td>18270</td>\n",
       "      <td>A</td>\n",
       "      <td>2019-01-02</td>\n",
       "    </tr>\n",
       "    <tr>\n",
       "      <th>4</th>\n",
       "      <td>9695121</td>\n",
       "      <td>994728</td>\n",
       "      <td>19000</td>\n",
       "      <td>B</td>\n",
       "      <td>2019-01-02</td>\n",
       "    </tr>\n",
       "  </tbody>\n",
       "</table>\n",
       "</div>"
      ],
      "text/plain": [
       "       IMO  SHIP_ID    TEU PORT_NAME  TIMESTAMP\n",
       "0  9784269  5098185  15226         A 2019-01-01\n",
       "1  9795622  5640800  21237         A 2019-01-01\n",
       "2  9811000  5631605  20000         A 2019-01-01\n",
       "3  9619983   157413  18270         A 2019-01-02\n",
       "4  9695121   994728  19000         B 2019-01-02"
      ]
     },
     "execution_count": 5,
     "metadata": {},
     "output_type": "execute_result"
    }
   ],
   "source": [
    "vessel_df.head(5)"
   ]
  },
  {
   "cell_type": "code",
   "execution_count": 6,
   "metadata": {},
   "outputs": [
    {
     "name": "stdout",
     "output_type": "stream",
     "text": [
      "<class 'pandas.core.frame.DataFrame'>\n",
      "RangeIndex: 1202 entries, 0 to 1201\n",
      "Data columns (total 5 columns):\n",
      " #   Column     Non-Null Count  Dtype         \n",
      "---  ------     --------------  -----         \n",
      " 0   IMO        1202 non-null   int64         \n",
      " 1   SHIP_ID    1202 non-null   int64         \n",
      " 2   TEU        1202 non-null   int64         \n",
      " 3   PORT_NAME  1202 non-null   object        \n",
      " 4   TIMESTAMP  1202 non-null   datetime64[ns]\n",
      "dtypes: datetime64[ns](1), int64(3), object(1)\n",
      "memory usage: 47.1+ KB\n"
     ]
    }
   ],
   "source": [
    "vessel_df.info()"
   ]
  },
  {
   "cell_type": "markdown",
   "metadata": {},
   "source": [
    "Our dataset consists of 5 columns and 1202 rows. The row names are **IMO**, **SHIP_ID**, **TEU**, **PORT_NAME**, and **TIMESTAMP**.<br>\n",
    "\n",
    "In more details:\n",
    "\n",
    "1. **IMO**: refers to the IMO number of ships which is a unique identifier for ships\n",
    "2. **SHIP_ID**: probably refers to a unique identifier set by marine traffic\n",
    "3. **TEU**: stands for twenty-foot equivalent unit, and refers to the cargo capacity of a container vessel, meaning how many TEU a container vessel could carry.\n",
    "4. **PORT_NAME**: refers to the 4 container ports\n",
    "5. **TIMESTAMP**: refers to the date of arrival of the Ultra large container vessels"
   ]
  },
  {
   "cell_type": "markdown",
   "metadata": {},
   "source": [
    "#### Missing values"
   ]
  },
  {
   "cell_type": "code",
   "execution_count": 7,
   "metadata": {},
   "outputs": [
    {
     "data": {
      "image/png": "[encoded data removed]",
      "text/plain": [
       "<Figure size 720x288 with 1 Axes>"
      ]
     },
     "metadata": {
      "needs_background": "light"
     },
     "output_type": "display_data"
    }
   ],
   "source": [
    "fig = plt.figure(figsize=(10,4))\n",
    "ax1 = fig.add_subplot(1,1,1)\n",
    "sns.heatmap(vessel_df.isnull(),yticklabels=False,cbar=False,cmap='viridis', ax = ax1)\n",
    "ax1.tick_params(axis='x', labelsize=13, rotation = 45)\n",
    "ax1.set_title('ULCVs data');"
   ]
  },
  {
   "cell_type": "code",
   "execution_count": 8,
   "metadata": {},
   "outputs": [
    {
     "data": {
      "text/plain": [
       "IMO          0\n",
       "SHIP_ID      0\n",
       "TEU          0\n",
       "PORT_NAME    0\n",
       "TIMESTAMP    0\n",
       "dtype: int64"
      ]
     },
     "execution_count": 8,
     "metadata": {},
     "output_type": "execute_result"
    }
   ],
   "source": [
    "vessel_df.isnull().sum()"
   ]
  },
  {
   "cell_type": "markdown",
   "metadata": {},
   "source": [
    "**There are no missing values in our data set**"
   ]
  },
  {
   "cell_type": "markdown",
   "metadata": {},
   "source": [
    "#### Duplicates"
   ]
  },
  {
   "cell_type": "code",
   "execution_count": 9,
   "metadata": {},
   "outputs": [
    {
     "data": {
      "text/plain": [
       "0"
      ]
     },
     "execution_count": 9,
     "metadata": {},
     "output_type": "execute_result"
    }
   ],
   "source": [
    "vessel_df.duplicated(keep=False).sum()"
   ]
  },
  {
   "cell_type": "markdown",
   "metadata": {},
   "source": [
    "**All rows are unique**"
   ]
  },
  {
   "cell_type": "markdown",
   "metadata": {},
   "source": [
    "### IMO feature"
   ]
  },
  {
   "cell_type": "code",
   "execution_count": 10,
   "metadata": {},
   "outputs": [
    {
     "data": {
      "text/plain": [
       "1198"
      ]
     },
     "execution_count": 10,
     "metadata": {},
     "output_type": "execute_result"
    }
   ],
   "source": [
    "vessel_df.duplicated(subset=['IMO'], keep=False).sum()"
   ]
  },
  {
   "cell_type": "code",
   "execution_count": 11,
   "metadata": {},
   "outputs": [
    {
     "data": {
      "text/plain": [
       "4"
      ]
     },
     "execution_count": 11,
     "metadata": {},
     "output_type": "execute_result"
    }
   ],
   "source": [
    "(~vessel_df.duplicated(subset=['IMO'], keep=False)).sum()"
   ]
  },
  {
   "cell_type": "code",
   "execution_count": 12,
   "metadata": {},
   "outputs": [
    {
     "data": {
      "text/plain": [
       "173"
      ]
     },
     "execution_count": 12,
     "metadata": {},
     "output_type": "execute_result"
    }
   ],
   "source": [
    "vessel_df['IMO'].nunique()"
   ]
  },
  {
   "cell_type": "code",
   "execution_count": 13,
   "metadata": {},
   "outputs": [
    {
     "data": {
      "image/png": "[encoded data removed]",
      "text/plain": [
       "<Figure size 720x576 with 1 Axes>"
      ]
     },
     "metadata": {
      "needs_background": "light"
     },
     "output_type": "display_data"
    }
   ],
   "source": [
    "fig = plt.figure(figsize=(10,8))\n",
    "vessel_df['IMO'].value_counts( ascending=True).iloc[-10:].plot(kind='barh')\n",
    "plt.xticks(np.arange(0,20,2), fontsize=12)\n",
    "plt.title('Number of visits per vessel (at all 4 ports)', fontsize=15)\n",
    "plt.ylabel('IMO number', fontsize=13)\n",
    "plt.yticks(fontsize=12);"
   ]
  },
  {
   "cell_type": "markdown",
   "metadata": {},
   "source": [
    "From the above we notice the following:\n",
    "\n",
    "1. Our data set consists of 173 unique ULCVs.\n",
    "2. Only 4 ULCVs have visited those ports only once.\n",
    "3. There are 4 ULCVs which have visited those ports a least 17 times."
   ]
  },
  {
   "cell_type": "markdown",
   "metadata": {},
   "source": [
    "#### TEU feature"
   ]
  },
  {
   "cell_type": "markdown",
   "metadata": {},
   "source": [
    "#### Question A"
   ]
  },
  {
   "cell_type": "code",
   "execution_count": 14,
   "metadata": {},
   "outputs": [
    {
     "data": {
      "image/png": "[encoded data removed]",
      "text/plain": [
       "<Figure size 1224x360 with 2 Axes>"
      ]
     },
     "metadata": {
      "needs_background": "light"
     },
     "output_type": "display_data"
    }
   ],
   "source": [
    "fig, axes = plt.subplots(1,2,figsize=(17,5))\n",
    "sns.histplot(data = vessel_df, \n",
    "             x= 'TEU',  \n",
    "             element='bars',\n",
    "             stat='count',\n",
    "            bins=40,\n",
    "            ax=axes[0])\n",
    "sns.boxplot(data = vessel_df, x = 'TEU',ax=axes[1]);"
   ]
  },
  {
   "cell_type": "code",
   "execution_count": 15,
   "metadata": {},
   "outputs": [
    {
     "data": {
      "text/plain": [
       "count      1202.000000\n",
       "mean      18756.699667\n",
       "std        9186.091153\n",
       "min        1555.000000\n",
       "25%       15908.000000\n",
       "50%       18800.000000\n",
       "75%       20000.000000\n",
       "max      155500.000000\n",
       "Name: TEU, dtype: float64"
      ]
     },
     "execution_count": 15,
     "metadata": {},
     "output_type": "execute_result"
    }
   ],
   "source": [
    "vessel_df['TEU'].describe()"
   ]
  },
  {
   "cell_type": "code",
   "execution_count": 16,
   "metadata": {},
   "outputs": [
    {
     "data": {
      "text/plain": [
       "5"
      ]
     },
     "execution_count": 16,
     "metadata": {},
     "output_type": "execute_result"
    }
   ],
   "source": [
    "# the below lambda functions can help us count how many outliners we have in this column. \n",
    "# I consider as an outliner a value which its absolute difference from the mean value of the TEU column is greater than 3 standard diviations\n",
    "# However since we have a very large max value (155,000), while the majority of our data our centered within, it affects our mean value, so maybe not outliners could be spotted \n",
    "outliners = vessel_df['TEU'].apply(lambda x: True if np.abs(x - vessel_df['TEU'].mean()) > 3*vessel_df['TEU'].std() else False)\n",
    "outliners.sum()"
   ]
  },
  {
   "cell_type": "markdown",
   "metadata": {},
   "source": [
    "There are only 5 outliners. Since the dataset contains only ULCVs, there cannot be container vessles with 1,555 TEUs (min value). Also the max value of 155,500 TEUs is not feaseble.\n",
    "We can suppose that fo both the lowest value for the max value some zeros had been misstyped.\n",
    "\n",
    "There are many ways we could deal with those outliners.\n",
    "\n",
    "1. We can simple drop those 5 rows, since there are very few and will not affect our data set.\n",
    "2. Since there are only a few outliners, we could search based on the IMO number of the vessels and find the correct value of the TEUs (or check in the company's database).\n",
    "3. We can replace them with the mean value of the TEU column, or even better with the mean value of TEU group by the port they have visited. Its common depending the vessel particulars, some vessel cannot visit all the ports.\n",
    "4. Since there are many vessels appear more than one time in our data set, it is possible that their TEU values to had been misstyped just once, thus we could try to look and replace the outliners with their correct values"
   ]
  },
  {
   "cell_type": "markdown",
   "metadata": {},
   "source": [
    "**Since there are only a few outliners we choose to find out the correct values of the vessels' TEUs**"
   ]
  },
  {
   "cell_type": "code",
   "execution_count": 17,
   "metadata": {},
   "outputs": [
    {
     "data": {
      "text/html": [
       "<div>\n",
       "<style scoped>\n",
       "    .dataframe tbody tr th:only-of-type {\n",
       "        vertical-align: middle;\n",
       "    }\n",
       "\n",
       "    .dataframe tbody tr th {\n",
       "        vertical-align: top;\n",
       "    }\n",
       "\n",
       "    .dataframe thead th {\n",
       "        text-align: right;\n",
       "    }\n",
       "</style>\n",
       "<table border=\"1\" class=\"dataframe\">\n",
       "  <thead>\n",
       "    <tr style=\"text-align: right;\">\n",
       "      <th></th>\n",
       "      <th>IMO</th>\n",
       "      <th>SHIP_ID</th>\n",
       "      <th>TEU</th>\n",
       "      <th>PORT_NAME</th>\n",
       "      <th>TIMESTAMP</th>\n",
       "    </tr>\n",
       "  </thead>\n",
       "  <tbody>\n",
       "    <tr>\n",
       "      <th>215</th>\n",
       "      <td>9321495</td>\n",
       "      <td>160793</td>\n",
       "      <td>155500</td>\n",
       "      <td>B</td>\n",
       "      <td>2019-02-20</td>\n",
       "    </tr>\n",
       "    <tr>\n",
       "      <th>380</th>\n",
       "      <td>9321495</td>\n",
       "      <td>160793</td>\n",
       "      <td>155500</td>\n",
       "      <td>A</td>\n",
       "      <td>2019-03-31</td>\n",
       "    </tr>\n",
       "    <tr>\n",
       "      <th>423</th>\n",
       "      <td>9321495</td>\n",
       "      <td>160793</td>\n",
       "      <td>155500</td>\n",
       "      <td>B</td>\n",
       "      <td>2019-04-09</td>\n",
       "    </tr>\n",
       "    <tr>\n",
       "      <th>649</th>\n",
       "      <td>9321495</td>\n",
       "      <td>160793</td>\n",
       "      <td>155500</td>\n",
       "      <td>C</td>\n",
       "      <td>2020-01-22</td>\n",
       "    </tr>\n",
       "    <tr>\n",
       "      <th>859</th>\n",
       "      <td>9321495</td>\n",
       "      <td>160793</td>\n",
       "      <td>155500</td>\n",
       "      <td>B</td>\n",
       "      <td>2020-02-29</td>\n",
       "    </tr>\n",
       "  </tbody>\n",
       "</table>\n",
       "</div>"
      ],
      "text/plain": [
       "         IMO  SHIP_ID     TEU PORT_NAME  TIMESTAMP\n",
       "215  9321495   160793  155500         B 2019-02-20\n",
       "380  9321495   160793  155500         A 2019-03-31\n",
       "423  9321495   160793  155500         B 2019-04-09\n",
       "649  9321495   160793  155500         C 2020-01-22\n",
       "859  9321495   160793  155500         B 2020-02-29"
      ]
     },
     "execution_count": 17,
     "metadata": {},
     "output_type": "execute_result"
    }
   ],
   "source": [
    "# return the IMO numbers of the outliners\n",
    "# we are going to use the outliners variable as a mask\n",
    "vessel_df[outliners]"
   ]
  },
  {
   "cell_type": "markdown",
   "metadata": {},
   "source": [
    "We notice that the outliners with very small values have not appeared"
   ]
  },
  {
   "cell_type": "code",
   "execution_count": 18,
   "metadata": {},
   "outputs": [
    {
     "data": {
      "text/html": [
       "<div>\n",
       "<style scoped>\n",
       "    .dataframe tbody tr th:only-of-type {\n",
       "        vertical-align: middle;\n",
       "    }\n",
       "\n",
       "    .dataframe tbody tr th {\n",
       "        vertical-align: top;\n",
       "    }\n",
       "\n",
       "    .dataframe thead th {\n",
       "        text-align: right;\n",
       "    }\n",
       "</style>\n",
       "<table border=\"1\" class=\"dataframe\">\n",
       "  <thead>\n",
       "    <tr style=\"text-align: right;\">\n",
       "      <th></th>\n",
       "      <th>IMO</th>\n",
       "      <th>SHIP_ID</th>\n",
       "      <th>TEU</th>\n",
       "      <th>PORT_NAME</th>\n",
       "      <th>TIMESTAMP</th>\n",
       "    </tr>\n",
       "  </thead>\n",
       "  <tbody>\n",
       "    <tr>\n",
       "      <th>215</th>\n",
       "      <td>9321495</td>\n",
       "      <td>160793</td>\n",
       "      <td>155500</td>\n",
       "      <td>B</td>\n",
       "      <td>2019-02-20</td>\n",
       "    </tr>\n",
       "    <tr>\n",
       "      <th>276</th>\n",
       "      <td>9321483</td>\n",
       "      <td>160663</td>\n",
       "      <td>1555</td>\n",
       "      <td>B</td>\n",
       "      <td>2019-03-05</td>\n",
       "    </tr>\n",
       "    <tr>\n",
       "      <th>380</th>\n",
       "      <td>9321495</td>\n",
       "      <td>160793</td>\n",
       "      <td>155500</td>\n",
       "      <td>A</td>\n",
       "      <td>2019-03-31</td>\n",
       "    </tr>\n",
       "    <tr>\n",
       "      <th>423</th>\n",
       "      <td>9321495</td>\n",
       "      <td>160793</td>\n",
       "      <td>155500</td>\n",
       "      <td>B</td>\n",
       "      <td>2019-04-09</td>\n",
       "    </tr>\n",
       "    <tr>\n",
       "      <th>649</th>\n",
       "      <td>9321495</td>\n",
       "      <td>160793</td>\n",
       "      <td>155500</td>\n",
       "      <td>C</td>\n",
       "      <td>2020-01-22</td>\n",
       "    </tr>\n",
       "    <tr>\n",
       "      <th>859</th>\n",
       "      <td>9321495</td>\n",
       "      <td>160793</td>\n",
       "      <td>155500</td>\n",
       "      <td>B</td>\n",
       "      <td>2020-02-29</td>\n",
       "    </tr>\n",
       "    <tr>\n",
       "      <th>906</th>\n",
       "      <td>9321483</td>\n",
       "      <td>160663</td>\n",
       "      <td>1555</td>\n",
       "      <td>A</td>\n",
       "      <td>2020-03-10</td>\n",
       "    </tr>\n",
       "    <tr>\n",
       "      <th>1116</th>\n",
       "      <td>9321483</td>\n",
       "      <td>160663</td>\n",
       "      <td>1555</td>\n",
       "      <td>C</td>\n",
       "      <td>2020-04-15</td>\n",
       "    </tr>\n",
       "  </tbody>\n",
       "</table>\n",
       "</div>"
      ],
      "text/plain": [
       "          IMO  SHIP_ID     TEU PORT_NAME  TIMESTAMP\n",
       "215   9321495   160793  155500         B 2019-02-20\n",
       "276   9321483   160663    1555         B 2019-03-05\n",
       "380   9321495   160793  155500         A 2019-03-31\n",
       "423   9321495   160793  155500         B 2019-04-09\n",
       "649   9321495   160793  155500         C 2020-01-22\n",
       "859   9321495   160793  155500         B 2020-02-29\n",
       "906   9321483   160663    1555         A 2020-03-10\n",
       "1116  9321483   160663    1555         C 2020-04-15"
      ]
     },
     "execution_count": 18,
     "metadata": {},
     "output_type": "execute_result"
    }
   ],
   "source": [
    "vessel_df[(vessel_df['TEU']<10000) | (vessel_df['TEU']>30000)]"
   ]
  },
  {
   "cell_type": "code",
   "execution_count": 19,
   "metadata": {},
   "outputs": [
    {
     "data": {
      "text/html": [
       "<div>\n",
       "<style scoped>\n",
       "    .dataframe tbody tr th:only-of-type {\n",
       "        vertical-align: middle;\n",
       "    }\n",
       "\n",
       "    .dataframe tbody tr th {\n",
       "        vertical-align: top;\n",
       "    }\n",
       "\n",
       "    .dataframe thead th {\n",
       "        text-align: right;\n",
       "    }\n",
       "</style>\n",
       "<table border=\"1\" class=\"dataframe\">\n",
       "  <thead>\n",
       "    <tr style=\"text-align: right;\">\n",
       "      <th></th>\n",
       "      <th>IMO</th>\n",
       "      <th>SHIP_ID</th>\n",
       "      <th>TEU</th>\n",
       "      <th>PORT_NAME</th>\n",
       "      <th>TIMESTAMP</th>\n",
       "    </tr>\n",
       "  </thead>\n",
       "  <tbody>\n",
       "    <tr>\n",
       "      <th>215</th>\n",
       "      <td>9321495</td>\n",
       "      <td>160793</td>\n",
       "      <td>155500</td>\n",
       "      <td>B</td>\n",
       "      <td>2019-02-20</td>\n",
       "    </tr>\n",
       "    <tr>\n",
       "      <th>380</th>\n",
       "      <td>9321495</td>\n",
       "      <td>160793</td>\n",
       "      <td>155500</td>\n",
       "      <td>A</td>\n",
       "      <td>2019-03-31</td>\n",
       "    </tr>\n",
       "    <tr>\n",
       "      <th>423</th>\n",
       "      <td>9321495</td>\n",
       "      <td>160793</td>\n",
       "      <td>155500</td>\n",
       "      <td>B</td>\n",
       "      <td>2019-04-09</td>\n",
       "    </tr>\n",
       "    <tr>\n",
       "      <th>649</th>\n",
       "      <td>9321495</td>\n",
       "      <td>160793</td>\n",
       "      <td>155500</td>\n",
       "      <td>C</td>\n",
       "      <td>2020-01-22</td>\n",
       "    </tr>\n",
       "    <tr>\n",
       "      <th>859</th>\n",
       "      <td>9321495</td>\n",
       "      <td>160793</td>\n",
       "      <td>155500</td>\n",
       "      <td>B</td>\n",
       "      <td>2020-02-29</td>\n",
       "    </tr>\n",
       "  </tbody>\n",
       "</table>\n",
       "</div>"
      ],
      "text/plain": [
       "         IMO  SHIP_ID     TEU PORT_NAME  TIMESTAMP\n",
       "215  9321495   160793  155500         B 2019-02-20\n",
       "380  9321495   160793  155500         A 2019-03-31\n",
       "423  9321495   160793  155500         B 2019-04-09\n",
       "649  9321495   160793  155500         C 2020-01-22\n",
       "859  9321495   160793  155500         B 2020-02-29"
      ]
     },
     "execution_count": 19,
     "metadata": {},
     "output_type": "execute_result"
    }
   ],
   "source": [
    "vessel_df[vessel_df['IMO']==9321495]"
   ]
  },
  {
   "cell_type": "code",
   "execution_count": 20,
   "metadata": {},
   "outputs": [
    {
     "data": {
      "text/html": [
       "<div>\n",
       "<style scoped>\n",
       "    .dataframe tbody tr th:only-of-type {\n",
       "        vertical-align: middle;\n",
       "    }\n",
       "\n",
       "    .dataframe tbody tr th {\n",
       "        vertical-align: top;\n",
       "    }\n",
       "\n",
       "    .dataframe thead th {\n",
       "        text-align: right;\n",
       "    }\n",
       "</style>\n",
       "<table border=\"1\" class=\"dataframe\">\n",
       "  <thead>\n",
       "    <tr style=\"text-align: right;\">\n",
       "      <th></th>\n",
       "      <th>IMO</th>\n",
       "      <th>SHIP_ID</th>\n",
       "      <th>TEU</th>\n",
       "      <th>PORT_NAME</th>\n",
       "      <th>TIMESTAMP</th>\n",
       "    </tr>\n",
       "  </thead>\n",
       "  <tbody>\n",
       "    <tr>\n",
       "      <th>276</th>\n",
       "      <td>9321483</td>\n",
       "      <td>160663</td>\n",
       "      <td>1555</td>\n",
       "      <td>B</td>\n",
       "      <td>2019-03-05</td>\n",
       "    </tr>\n",
       "    <tr>\n",
       "      <th>906</th>\n",
       "      <td>9321483</td>\n",
       "      <td>160663</td>\n",
       "      <td>1555</td>\n",
       "      <td>A</td>\n",
       "      <td>2020-03-10</td>\n",
       "    </tr>\n",
       "    <tr>\n",
       "      <th>1116</th>\n",
       "      <td>9321483</td>\n",
       "      <td>160663</td>\n",
       "      <td>1555</td>\n",
       "      <td>C</td>\n",
       "      <td>2020-04-15</td>\n",
       "    </tr>\n",
       "  </tbody>\n",
       "</table>\n",
       "</div>"
      ],
      "text/plain": [
       "          IMO  SHIP_ID   TEU PORT_NAME  TIMESTAMP\n",
       "276   9321483   160663  1555         B 2019-03-05\n",
       "906   9321483   160663  1555         A 2020-03-10\n",
       "1116  9321483   160663  1555         C 2020-04-15"
      ]
     },
     "execution_count": 20,
     "metadata": {},
     "output_type": "execute_result"
    }
   ],
   "source": [
    "vessel_df[vessel_df['IMO']==9321483]"
   ]
  },
  {
   "cell_type": "markdown",
   "metadata": {},
   "source": [
    "Unfortunetely we notice that all the records of the vessels with IMO number 9321495 or 9321495 have been misstyped, meaning that we cannot implement the solution 4 and we have to search online (solution 2)."
   ]
  },
  {
   "cell_type": "markdown",
   "metadata": {},
   "source": [
    "Based on an online search, I found out that the correct TEU capacities for those two vessels are:\n",
    "\n",
    "- For vessel with IMO# 9321495 the TEU is 15550 https://www.marinetraffic.com/en/ais/details/ships/shipid:159326/mmsi:220478000/imo:9321495/vessel:ESTELLE_MAERSK\n",
    "- For vessel with IMO# 9321483 the TEU is 15550 https://www.marinetraffic.com/en/ais/details/ships/shipid:159196/mmsi:220417000/imo:9321483/vessel:EMMA_MAERSK\n",
    "\n",
    "Also it appears that these two ships can be sister vessels, since share same particulars, such year of built, LOA, GT."
   ]
  },
  {
   "cell_type": "markdown",
   "metadata": {},
   "source": [
    "Simple replacing the currect values:"
   ]
  },
  {
   "cell_type": "code",
   "execution_count": 21,
   "metadata": {},
   "outputs": [],
   "source": [
    "def correct_teu(x,y):\n",
    "    if (y == 9321495) or (y == 9321483):\n",
    "        return 15550\n",
    "    else:\n",
    "        return x"
   ]
  },
  {
   "cell_type": "code",
   "execution_count": 22,
   "metadata": {},
   "outputs": [],
   "source": [
    "vessel_df['TEU'] = vessel_df[['TEU','IMO']].apply(lambda row: correct_teu(row['TEU'], row['IMO']), axis=1)"
   ]
  },
  {
   "cell_type": "code",
   "execution_count": 23,
   "metadata": {},
   "outputs": [
    {
     "data": {
      "image/png": "[encoded data removed]",
      "text/plain": [
       "<Figure size 1224x360 with 2 Axes>"
      ]
     },
     "metadata": {
      "needs_background": "light"
     },
     "output_type": "display_data"
    }
   ],
   "source": [
    "fig, axes = plt.subplots(1,2,figsize=(17,5))\n",
    "sns.histplot(data = vessel_df, \n",
    "             x= 'TEU',\n",
    "             element='bars',\n",
    "             stat='count',\n",
    "            bins=40,\n",
    "            ax=axes[0])\n",
    "sns.boxplot(data = vessel_df, x = 'TEU',ax=axes[1]);"
   ]
  },
  {
   "cell_type": "code",
   "execution_count": 24,
   "metadata": {},
   "outputs": [
    {
     "data": {
      "text/plain": [
       "count     1202.000000\n",
       "mean     18209.474210\n",
       "std       2359.539667\n",
       "min      14500.000000\n",
       "25%      15908.000000\n",
       "50%      18800.000000\n",
       "75%      20000.000000\n",
       "max      23756.000000\n",
       "Name: TEU, dtype: float64"
      ]
     },
     "execution_count": 24,
     "metadata": {},
     "output_type": "execute_result"
    }
   ],
   "source": [
    "vessel_df['TEU'].describe()"
   ]
  },
  {
   "cell_type": "markdown",
   "metadata": {},
   "source": [
    "### The below is an alternative solution in case we had many outliners, for replacing the TEUs based on their port of call"
   ]
  },
  {
   "cell_type": "markdown",
   "metadata": {},
   "source": [
    "We would try to replace the TEU value with the mean TEU value group by PORT_NAME (after excluded the outliners from the calculation of the mean)"
   ]
  },
  {
   "cell_type": "code",
   "execution_count": 25,
   "metadata": {},
   "outputs": [
    {
     "data": {
      "text/plain": [
       "PORT_NAME\n",
       "A    18313.301818\n",
       "B    18166.634921\n",
       "C    18040.973404\n",
       "D    18363.858974\n",
       "Name: TEU, dtype: float64"
      ]
     },
     "execution_count": 25,
     "metadata": {},
     "output_type": "execute_result"
    }
   ],
   "source": [
    "mean_teu_per_port = vessel_df[~((vessel_df['IMO']==9321483) | (vessel_df['IMO']==9321495))].groupby(by='PORT_NAME').mean()['TEU']\n",
    "mean_teu_per_port"
   ]
  },
  {
   "cell_type": "code",
   "execution_count": 26,
   "metadata": {},
   "outputs": [],
   "source": [
    "def my_f(x,y):\n",
    "    if (x > 30000) or (x < 10000):\n",
    "        if y == 'A':\n",
    "            return round(mean_teu_per_port['A'])\n",
    "        if y == 'B':\n",
    "            return round(mean_teu_per_port['B'])\n",
    "        if y == 'C':\n",
    "            return round(mean_teu_per_port['C'])\n",
    "        if y == 'D':\n",
    "            return round(mean_teu_per_port['D'])\n",
    "    else:\n",
    "        return x     "
   ]
  },
  {
   "cell_type": "code",
   "execution_count": 27,
   "metadata": {},
   "outputs": [],
   "source": [
    "vessel_df['TEU'] = vessel_df[['TEU','PORT_NAME']].apply(lambda row: my_f(row['TEU'], row['PORT_NAME']), axis=1)"
   ]
  },
  {
   "cell_type": "code",
   "execution_count": 28,
   "metadata": {},
   "outputs": [
    {
     "data": {
      "text/plain": [
       "count     1202.000000\n",
       "mean     18209.474210\n",
       "std       2359.539667\n",
       "min      14500.000000\n",
       "25%      15908.000000\n",
       "50%      18800.000000\n",
       "75%      20000.000000\n",
       "max      23756.000000\n",
       "Name: TEU, dtype: float64"
      ]
     },
     "execution_count": 28,
     "metadata": {},
     "output_type": "execute_result"
    }
   ],
   "source": [
    "vessel_df['TEU'].describe()"
   ]
  },
  {
   "cell_type": "code",
   "execution_count": 29,
   "metadata": {},
   "outputs": [],
   "source": [
    "# IF YOU RUN THE ABOVE PART, PLEASE RERUN THE BELOW CODE TO CORRECT THE TEU VALUES\n",
    "vessel_df['TEU'] = vessel_df[['TEU','IMO']].apply(lambda row: correct_teu(row['TEU'], row['IMO']), axis=1)"
   ]
  },
  {
   "cell_type": "markdown",
   "metadata": {},
   "source": [
    "### Question B"
   ]
  },
  {
   "cell_type": "code",
   "execution_count": 30,
   "metadata": {},
   "outputs": [],
   "source": [
    "vessel_df['Year'] = vessel_df['TIMESTAMP'].dt.strftime('%Y')\n",
    "vessel_df['Month'] = vessel_df['TIMESTAMP'].dt.strftime('%B')"
   ]
  },
  {
   "cell_type": "code",
   "execution_count": 31,
   "metadata": {},
   "outputs": [
    {
     "data": {
      "text/html": [
       "<div>\n",
       "<style scoped>\n",
       "    .dataframe tbody tr th:only-of-type {\n",
       "        vertical-align: middle;\n",
       "    }\n",
       "\n",
       "    .dataframe tbody tr th {\n",
       "        vertical-align: top;\n",
       "    }\n",
       "\n",
       "    .dataframe thead th {\n",
       "        text-align: right;\n",
       "    }\n",
       "</style>\n",
       "<table border=\"1\" class=\"dataframe\">\n",
       "  <thead>\n",
       "    <tr style=\"text-align: right;\">\n",
       "      <th></th>\n",
       "      <th>IMO</th>\n",
       "      <th>SHIP_ID</th>\n",
       "      <th>TEU</th>\n",
       "      <th>PORT_NAME</th>\n",
       "      <th>TIMESTAMP</th>\n",
       "      <th>Year</th>\n",
       "      <th>Month</th>\n",
       "    </tr>\n",
       "  </thead>\n",
       "  <tbody>\n",
       "    <tr>\n",
       "      <th>0</th>\n",
       "      <td>9784269</td>\n",
       "      <td>5098185</td>\n",
       "      <td>15226</td>\n",
       "      <td>A</td>\n",
       "      <td>2019-01-01</td>\n",
       "      <td>2019</td>\n",
       "      <td>January</td>\n",
       "    </tr>\n",
       "    <tr>\n",
       "      <th>1</th>\n",
       "      <td>9795622</td>\n",
       "      <td>5640800</td>\n",
       "      <td>21237</td>\n",
       "      <td>A</td>\n",
       "      <td>2019-01-01</td>\n",
       "      <td>2019</td>\n",
       "      <td>January</td>\n",
       "    </tr>\n",
       "    <tr>\n",
       "      <th>2</th>\n",
       "      <td>9811000</td>\n",
       "      <td>5631605</td>\n",
       "      <td>20000</td>\n",
       "      <td>A</td>\n",
       "      <td>2019-01-01</td>\n",
       "      <td>2019</td>\n",
       "      <td>January</td>\n",
       "    </tr>\n",
       "  </tbody>\n",
       "</table>\n",
       "</div>"
      ],
      "text/plain": [
       "       IMO  SHIP_ID    TEU PORT_NAME  TIMESTAMP  Year    Month\n",
       "0  9784269  5098185  15226         A 2019-01-01  2019  January\n",
       "1  9795622  5640800  21237         A 2019-01-01  2019  January\n",
       "2  9811000  5631605  20000         A 2019-01-01  2019  January"
      ]
     },
     "execution_count": 31,
     "metadata": {},
     "output_type": "execute_result"
    }
   ],
   "source": [
    "vessel_df.head(3)"
   ]
  },
  {
   "cell_type": "code",
   "execution_count": 32,
   "metadata": {},
   "outputs": [
    {
     "data": {
      "image/png": "[encoded data removed]",
      "text/plain": [
       "<Figure size 864x576 with 1 Axes>"
      ]
     },
     "metadata": {
      "needs_background": "light"
     },
     "output_type": "display_data"
    }
   ],
   "source": [
    "fig = plt.figure(figsize=(12,8))\n",
    "ax1 = fig.add_subplot(1,1,1)\n",
    "sns.countplot(x='Month', hue='Year', data = vessel_df, ax=ax1, palette = 'seismic')\n",
    "ax1.set_title('ULVCs monthly arrivals comparison between 2019 - 2020', fontsize=16)\n",
    "ax1.set_ylabel('Count of arrivals', fontsize=14)\n",
    "ax1.set_xlabel('Month',fontsize=14)\n",
    "ax1.set_ylim(0, 200)\n",
    "ax1.tick_params(labelsize=13)\n",
    "ax1.legend(title='Year', title_fontsize=13, fontsize=12);"
   ]
  },
  {
   "cell_type": "markdown",
   "metadata": {},
   "source": [
    "Based on the above graph we can notice the following:\n",
    "\n",
    "1. There has been a significant increase on ULCVs arrivals within a year (this could be due to investements to ports infrastructures, world economy expansions etc).\n",
    "2. February is the month with the less arrivals\n",
    "3. For 2020 the month with the most arrivals was January, while for 2019 was April."
   ]
  },
  {
   "cell_type": "markdown",
   "metadata": {},
   "source": [
    "### Question C"
   ]
  },
  {
   "cell_type": "code",
   "execution_count": 38,
   "metadata": {},
   "outputs": [],
   "source": [
    "vessel_df_2020 = vessel_df[vessel_df['Year']=='2020']"
   ]
  },
  {
   "cell_type": "code",
   "execution_count": 76,
   "metadata": {},
   "outputs": [
    {
     "name": "stderr",
     "output_type": "stream",
     "text": [
      "<ipython-input-76-f02eeddeb9fc>:10: UserWarning:\n",
      "\n",
      "FixedFormatter should only be used together with FixedLocator\n",
      "\n"
     ]
    },
    {
     "data": {
      "image/png": "[encoded data removed]",
      "text/plain": [
       "<Figure size 1296x576 with 2 Axes>"
      ]
     },
     "metadata": {
      "needs_background": "light"
     },
     "output_type": "display_data"
    }
   ],
   "source": [
    "fig, axes = plt.subplots(1,2,figsize=(18,8))\n",
    "ax1 = sns.countplot(x = 'PORT_NAME', data = vessel_df_2020, ax = axes[0], order = vessel_df_2020['PORT_NAME'].value_counts().index)\n",
    "ax1.set_title('Port arrivals for 2020', fontsize=16)\n",
    "ax1.tick_params(labelsize=13)\n",
    "ax1.set_ylabel('Count', fontsize=14)\n",
    "ax2 = (vessel_df_2020['PORT_NAME'].value_counts() / len(vessel_df_2020)).plot(kind='bar', width = 0.85, ax=axes[1])\n",
    "ax2.set_title('Percentage of arrival per port', fontsize=16)\n",
    "ax2.set_xticklabels(labels=['A','B','C','D'],rotation = 'horizontal')\n",
    "ax2.set_ylabel('Percentage %', fontsize=14)\n",
    "ax2.set_yticklabels(['{:.0%}'.format(x) for x in ax2.get_yticks()])\n",
    "ax2.tick_params(labelsize=13);"
   ]
  },
  {
   "cell_type": "code",
   "execution_count": 109,
   "metadata": {},
   "outputs": [
    {
     "data": {
      "image/png": "[encoded data removed]",
      "text/plain": [
       "<Figure size 360x360 with 1 Axes>"
      ]
     },
     "metadata": {},
     "output_type": "display_data"
    }
   ],
   "source": [
    "# credits to Kevin Amipara https://medium.com/@kvnamipara/a-better-visualisation-of-pie-charts-by-matplotlib-935b7667d77f\n",
    "fig1, ax1 = plt.subplots(figsize=(5,5))\n",
    "patches, texts, autotexts = ax1.pie((vessel_df_2020['PORT_NAME'].value_counts() / len(vessel_df_2020)), autopct='%.1f%%', colors = ['#ff9999','#66b3ff','#99ff99','#ffcc99'], labels = ['A','B','C','D'])\n",
    "for i in range(0, len(texts)):\n",
    "    texts[i].set_fontsize(13)\n",
    "    autotexts[i].set_fontsize(13)\n",
    "ax1.set_title('Percentage of arrivals', fontsize=15)\n",
    "# just drawing a white circle in the center to create the \"donut effect\"\n",
    "centre_circle = plt.Circle((0,0),0.75,fc='white')\n",
    "fig = plt.gcf()\n",
    "fig.gca().add_artist(centre_circle)\n",
    "# Equal aspect ratio ensures that pie is drawn as a circle\n",
    "ax1.axis('equal')  \n",
    "plt.tight_layout()\n",
    "plt.show()"
   ]
  }
 ],
 "metadata": {
  "kernelspec": {
   "display_name": "marine_traffic_venv",
   "language": "python",
   "name": "marine_traffic_venv"
  },
  "language_info": {
   "codemirror_mode": {
    "name": "ipython",
    "version": 3
   },
   "file_extension": ".py",
   "mimetype": "text/x-python",
   "name": "python",
   "nbconvert_exporter": "python",
   "pygments_lexer": "ipython3",
   "version": "3.9.1"
  }
 },
 "nbformat": 4,
 "nbformat_minor": 4
}
