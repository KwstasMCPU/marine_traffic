{
 "cells": [
  {
   "cell_type": "code",
   "execution_count": 72,
   "metadata": {},
   "outputs": [],
   "source": [
    "import numpy as np\n",
    "import pandas as pd\n",
    "import matplotlib.pyplot as plt\n",
    "import seaborn as sns"
   ]
  },
  {
   "cell_type": "code",
   "execution_count": 64,
   "metadata": {},
   "outputs": [],
   "source": [
    "sns.set_style('darkgrid')"
   ]
  },
  {
   "cell_type": "code",
   "execution_count": 3,
   "metadata": {},
   "outputs": [],
   "source": [
    "%matplotlib inline"
   ]
  },
  {
   "cell_type": "code",
   "execution_count": 6,
   "metadata": {},
   "outputs": [],
   "source": [
    "# loading the .xlsx to a pandas dataframe\n",
    "vessel_df = pd.read_excel('particulars_dataset_jda_assignment.xlsx')"
   ]
  },
  {
   "cell_type": "markdown",
   "metadata": {},
   "source": [
    "## EDA"
   ]
  },
  {
   "cell_type": "code",
   "execution_count": 7,
   "metadata": {},
   "outputs": [
    {
     "data": {
      "text/html": [
       "<div>\n",
       "<style scoped>\n",
       "    .dataframe tbody tr th:only-of-type {\n",
       "        vertical-align: middle;\n",
       "    }\n",
       "\n",
       "    .dataframe tbody tr th {\n",
       "        vertical-align: top;\n",
       "    }\n",
       "\n",
       "    .dataframe thead th {\n",
       "        text-align: right;\n",
       "    }\n",
       "</style>\n",
       "<table border=\"1\" class=\"dataframe\">\n",
       "  <thead>\n",
       "    <tr style=\"text-align: right;\">\n",
       "      <th></th>\n",
       "      <th>IMO</th>\n",
       "      <th>SHIP_ID</th>\n",
       "      <th>TEU</th>\n",
       "      <th>PORT_NAME</th>\n",
       "      <th>TIMESTAMP</th>\n",
       "    </tr>\n",
       "  </thead>\n",
       "  <tbody>\n",
       "    <tr>\n",
       "      <th>0</th>\n",
       "      <td>9784269</td>\n",
       "      <td>5098185</td>\n",
       "      <td>15226</td>\n",
       "      <td>A</td>\n",
       "      <td>2019-01-01</td>\n",
       "    </tr>\n",
       "    <tr>\n",
       "      <th>1</th>\n",
       "      <td>9795622</td>\n",
       "      <td>5640800</td>\n",
       "      <td>21237</td>\n",
       "      <td>A</td>\n",
       "      <td>2019-01-01</td>\n",
       "    </tr>\n",
       "    <tr>\n",
       "      <th>2</th>\n",
       "      <td>9811000</td>\n",
       "      <td>5631605</td>\n",
       "      <td>20000</td>\n",
       "      <td>A</td>\n",
       "      <td>2019-01-01</td>\n",
       "    </tr>\n",
       "    <tr>\n",
       "      <th>3</th>\n",
       "      <td>9619983</td>\n",
       "      <td>157413</td>\n",
       "      <td>18270</td>\n",
       "      <td>A</td>\n",
       "      <td>2019-01-02</td>\n",
       "    </tr>\n",
       "    <tr>\n",
       "      <th>4</th>\n",
       "      <td>9695121</td>\n",
       "      <td>994728</td>\n",
       "      <td>19000</td>\n",
       "      <td>B</td>\n",
       "      <td>2019-01-02</td>\n",
       "    </tr>\n",
       "  </tbody>\n",
       "</table>\n",
       "</div>"
      ],
      "text/plain": [
       "       IMO  SHIP_ID    TEU PORT_NAME  TIMESTAMP\n",
       "0  9784269  5098185  15226         A 2019-01-01\n",
       "1  9795622  5640800  21237         A 2019-01-01\n",
       "2  9811000  5631605  20000         A 2019-01-01\n",
       "3  9619983   157413  18270         A 2019-01-02\n",
       "4  9695121   994728  19000         B 2019-01-02"
      ]
     },
     "execution_count": 7,
     "metadata": {},
     "output_type": "execute_result"
    }
   ],
   "source": [
    "vessel_df.head(5)"
   ]
  },
  {
   "cell_type": "code",
   "execution_count": 8,
   "metadata": {},
   "outputs": [
    {
     "name": "stdout",
     "output_type": "stream",
     "text": [
      "<class 'pandas.core.frame.DataFrame'>\n",
      "RangeIndex: 1202 entries, 0 to 1201\n",
      "Data columns (total 5 columns):\n",
      " #   Column     Non-Null Count  Dtype         \n",
      "---  ------     --------------  -----         \n",
      " 0   IMO        1202 non-null   int64         \n",
      " 1   SHIP_ID    1202 non-null   int64         \n",
      " 2   TEU        1202 non-null   int64         \n",
      " 3   PORT_NAME  1202 non-null   object        \n",
      " 4   TIMESTAMP  1202 non-null   datetime64[ns]\n",
      "dtypes: datetime64[ns](1), int64(3), object(1)\n",
      "memory usage: 47.1+ KB\n"
     ]
    }
   ],
   "source": [
    "vessel_df.info()"
   ]
  },
  {
   "cell_type": "markdown",
   "metadata": {},
   "source": [
    "Our dataset consists of 5 columns and 1202 rows. The row names are **IMO**, **SHIP_ID**, **TEU**, **PORT_NAME**, and **TIMESTAMP**.<br>\n",
    "\n",
    "In more details:\n",
    "\n",
    "1. **IMO**: refers to the IMO number of ships which is a unique identifier for ships\n",
    "2. **SHIP_ID**: probably refers to a unique identifier set by marine traffic\n",
    "3. **TEU**: stands for twenty-foot equivalent unit, and refers to the cargo capacity of a container vessel, meaning how many TEU a container vessel could carry.\n",
    "4. **PORT_NAME**: refers to the 4 container ports\n",
    "5. **TIMESTAMP**: refers to the date of arrival of the Ultra large container vessels"
   ]
  },
  {
   "cell_type": "code",
   "execution_count": 23,
   "metadata": {},
   "outputs": [
    {
     "data": {
      "image/png": "[encoded data removed]",
      "text/plain": [
       "<Figure size 720x288 with 1 Axes>"
      ]
     },
     "metadata": {
      "needs_background": "light"
     },
     "output_type": "display_data"
    }
   ],
   "source": [
    "# checking for missing values\n",
    "fig = plt.figure(figsize=(10,4))\n",
    "ax1 = fig.add_subplot(1,1,1)\n",
    "sns.heatmap(vessel_df.isnull(),yticklabels=False,cbar=False,cmap='viridis', ax = ax1)\n",
    "ax1.tick_params(axis='x', labelsize=13, rotation = 45)\n",
    "ax1.set_title('ULCVs data');"
   ]
  },
  {
   "cell_type": "code",
   "execution_count": 22,
   "metadata": {},
   "outputs": [
    {
     "data": {
      "text/plain": [
       "IMO          0\n",
       "SHIP_ID      0\n",
       "TEU          0\n",
       "PORT_NAME    0\n",
       "TIMESTAMP    0\n",
       "dtype: int64"
      ]
     },
     "execution_count": 22,
     "metadata": {},
     "output_type": "execute_result"
    }
   ],
   "source": [
    "vessel_df.isnull().sum()"
   ]
  },
  {
   "cell_type": "markdown",
   "metadata": {},
   "source": [
    "**There are no missing values in our data set**"
   ]
  },
  {
   "cell_type": "code",
   "execution_count": 81,
   "metadata": {},
   "outputs": [
    {
     "data": {
      "text/plain": [
       "0"
      ]
     },
     "execution_count": 81,
     "metadata": {},
     "output_type": "execute_result"
    }
   ],
   "source": [
    "# checking for duplicate rows\n",
    "vessel_df.duplicated(keep=False).sum()"
   ]
  },
  {
   "cell_type": "markdown",
   "metadata": {},
   "source": [
    "**All rows are unique**"
   ]
  },
  {
   "cell_type": "markdown",
   "metadata": {},
   "source": [
    "### IMO feature"
   ]
  },
  {
   "cell_type": "code",
   "execution_count": 54,
   "metadata": {},
   "outputs": [
    {
     "data": {
      "text/plain": [
       "1198"
      ]
     },
     "execution_count": 54,
     "metadata": {},
     "output_type": "execute_result"
    }
   ],
   "source": [
    "vessel_df.duplicated(subset=['IMO'], keep=False).sum()"
   ]
  },
  {
   "cell_type": "code",
   "execution_count": 57,
   "metadata": {},
   "outputs": [
    {
     "data": {
      "text/plain": [
       "4"
      ]
     },
     "execution_count": 57,
     "metadata": {},
     "output_type": "execute_result"
    }
   ],
   "source": [
    "(~vessel_df.duplicated(subset=['IMO'], keep=False)).sum()"
   ]
  },
  {
   "cell_type": "code",
   "execution_count": 58,
   "metadata": {},
   "outputs": [
    {
     "data": {
      "text/plain": [
       "173"
      ]
     },
     "execution_count": 58,
     "metadata": {},
     "output_type": "execute_result"
    }
   ],
   "source": [
    "vessel_df['IMO'].nunique()"
   ]
  },
  {
   "cell_type": "code",
   "execution_count": 71,
   "metadata": {},
   "outputs": [
    {
     "data": {
      "image/png": "[encoded data removed]",
      "text/plain": [
       "<Figure size 720x576 with 1 Axes>"
      ]
     },
     "metadata": {},
     "output_type": "display_data"
    }
   ],
   "source": [
    "fig = plt.figure(figsize=(10,8))\n",
    "vessel_df['IMO'].value_counts( ascending=True).iloc[-10:].plot(kind='barh')\n",
    "plt.xticks(np.arange(0,20,2), fontsize=12)\n",
    "plt.title('Number of visits per vessel (at all 4 ports)', fontsize=15)\n",
    "plt.ylabel('IMO number', fontsize=13)\n",
    "plt.yticks(fontsize=12);"
   ]
  },
  {
   "cell_type": "markdown",
   "metadata": {},
   "source": [
    "From the above we notice the following:\n",
    "\n",
    "1. There are 173 unique ULCVs.\n",
    "2. Only 4 ULCVs have visited those ports only once.\n",
    "3. There 4 ULCVs which have visited thise ports a least 17 times."
   ]
  },
  {
   "cell_type": "markdown",
   "metadata": {},
   "source": [
    "#### TEU feature"
   ]
  },
  {
   "cell_type": "code",
   "execution_count": 74,
   "metadata": {},
   "outputs": [
    {
     "data": {
      "image/png": "[encoded data removed]",
      "text/plain": [
       "<Figure size 1224x360 with 2 Axes>"
      ]
     },
     "metadata": {},
     "output_type": "display_data"
    }
   ],
   "source": [
    "fig, axes = plt.subplots(1,2,figsize=(17,5))\n",
    "sns.histplot(data = vessel_df, \n",
    "             x= 'TEU',  \n",
    "             element='bars',\n",
    "             stat='count',\n",
    "            bins=40,\n",
    "            ax=axes[0])\n",
    "sns.boxplot(data = vessel_df, x = 'TEU',ax=axes[1]);"
   ]
  },
  {
   "cell_type": "code",
   "execution_count": 75,
   "metadata": {},
   "outputs": [
    {
     "data": {
      "text/plain": [
       "count      1202.000000\n",
       "mean      18756.699667\n",
       "std        9186.091153\n",
       "min        1555.000000\n",
       "25%       15908.000000\n",
       "50%       18800.000000\n",
       "75%       20000.000000\n",
       "max      155500.000000\n",
       "Name: TEU, dtype: float64"
      ]
     },
     "execution_count": 75,
     "metadata": {},
     "output_type": "execute_result"
    }
   ],
   "source": [
    "vessel_df['TEU'].describe()"
   ]
  },
  {
   "cell_type": "code",
   "execution_count": 94,
   "metadata": {},
   "outputs": [
    {
     "data": {
      "text/plain": [
       "5"
      ]
     },
     "execution_count": 94,
     "metadata": {},
     "output_type": "execute_result"
    }
   ],
   "source": [
    "# the below lambda functions can help us count how many outliners we have in this column. \n",
    "# I consider as an outliner a value which its absolute difference from the mean value of the TEU column is greater than 3 standard diviations\n",
    "# However since we have a very large max value (155,000), while the majority of our data our centered within, it affects our mean value, so maybe not outliners could be spotted \n",
    "outliners = vessel_df['TEU'].apply(lambda x: True if np.abs(x - vessel_df['TEU'].mean()) > 3*vessel_df['TEU'].std() else False)\n",
    "outliners.sum()"
   ]
  },
  {
   "cell_type": "markdown",
   "metadata": {},
   "source": [
    "There are only 5 outliners. Since the dataset contains only ULCVs, there cannot be container vessles with 1,555 TEUs (min value). Also the max value of 155,500 TEUs is not feaseble.\n",
    "We can suppose that fo both the lowest value for the max value some zeros had been misstyped.\n",
    "\n",
    "There are many ways we could deal with those outliners.\n",
    "\n",
    "1. We can simple drop those 5 rows, since there are very few and will not affect our data set.\n",
    "2. We can replace them with the mean value of the TEU column, or even better with the mean value of TEU group by the port they have visited. Its common depending the vessel particulars, some vessel cannot visit all the ports.\n",
    "3. Since there are many vessels appear more than one time in our data set, it is possible that their TEU values to had been misstyped just once, thus we could try to look and replace the outliners with their correct values"
   ]
  },
  {
   "cell_type": "code",
   "execution_count": 97,
   "metadata": {},
   "outputs": [
    {
     "data": {
      "text/html": [
       "<div>\n",
       "<style scoped>\n",
       "    .dataframe tbody tr th:only-of-type {\n",
       "        vertical-align: middle;\n",
       "    }\n",
       "\n",
       "    .dataframe tbody tr th {\n",
       "        vertical-align: top;\n",
       "    }\n",
       "\n",
       "    .dataframe thead th {\n",
       "        text-align: right;\n",
       "    }\n",
       "</style>\n",
       "<table border=\"1\" class=\"dataframe\">\n",
       "  <thead>\n",
       "    <tr style=\"text-align: right;\">\n",
       "      <th></th>\n",
       "      <th>IMO</th>\n",
       "      <th>SHIP_ID</th>\n",
       "      <th>TEU</th>\n",
       "      <th>PORT_NAME</th>\n",
       "      <th>TIMESTAMP</th>\n",
       "    </tr>\n",
       "  </thead>\n",
       "  <tbody>\n",
       "    <tr>\n",
       "      <th>215</th>\n",
       "      <td>9321495</td>\n",
       "      <td>160793</td>\n",
       "      <td>155500</td>\n",
       "      <td>B</td>\n",
       "      <td>2019-02-20</td>\n",
       "    </tr>\n",
       "    <tr>\n",
       "      <th>380</th>\n",
       "      <td>9321495</td>\n",
       "      <td>160793</td>\n",
       "      <td>155500</td>\n",
       "      <td>A</td>\n",
       "      <td>2019-03-31</td>\n",
       "    </tr>\n",
       "    <tr>\n",
       "      <th>423</th>\n",
       "      <td>9321495</td>\n",
       "      <td>160793</td>\n",
       "      <td>155500</td>\n",
       "      <td>B</td>\n",
       "      <td>2019-04-09</td>\n",
       "    </tr>\n",
       "    <tr>\n",
       "      <th>649</th>\n",
       "      <td>9321495</td>\n",
       "      <td>160793</td>\n",
       "      <td>155500</td>\n",
       "      <td>C</td>\n",
       "      <td>2020-01-22</td>\n",
       "    </tr>\n",
       "    <tr>\n",
       "      <th>859</th>\n",
       "      <td>9321495</td>\n",
       "      <td>160793</td>\n",
       "      <td>155500</td>\n",
       "      <td>B</td>\n",
       "      <td>2020-02-29</td>\n",
       "    </tr>\n",
       "  </tbody>\n",
       "</table>\n",
       "</div>"
      ],
      "text/plain": [
       "         IMO  SHIP_ID     TEU PORT_NAME  TIMESTAMP\n",
       "215  9321495   160793  155500         B 2019-02-20\n",
       "380  9321495   160793  155500         A 2019-03-31\n",
       "423  9321495   160793  155500         B 2019-04-09\n",
       "649  9321495   160793  155500         C 2020-01-22\n",
       "859  9321495   160793  155500         B 2020-02-29"
      ]
     },
     "execution_count": 97,
     "metadata": {},
     "output_type": "execute_result"
    }
   ],
   "source": [
    "# return the IMO numbers of the outliners\n",
    "# we are going to use the outliners variable as a mask\n",
    "vessel_df[outliners]"
   ]
  },
  {
   "cell_type": "code",
   "execution_count": 85,
   "metadata": {},
   "outputs": [
    {
     "data": {
      "text/html": [
       "<div>\n",
       "<style scoped>\n",
       "    .dataframe tbody tr th:only-of-type {\n",
       "        vertical-align: middle;\n",
       "    }\n",
       "\n",
       "    .dataframe tbody tr th {\n",
       "        vertical-align: top;\n",
       "    }\n",
       "\n",
       "    .dataframe thead th {\n",
       "        text-align: right;\n",
       "    }\n",
       "</style>\n",
       "<table border=\"1\" class=\"dataframe\">\n",
       "  <thead>\n",
       "    <tr style=\"text-align: right;\">\n",
       "      <th></th>\n",
       "      <th>IMO</th>\n",
       "      <th>SHIP_ID</th>\n",
       "      <th>TEU</th>\n",
       "      <th>PORT_NAME</th>\n",
       "      <th>TIMESTAMP</th>\n",
       "    </tr>\n",
       "  </thead>\n",
       "  <tbody>\n",
       "    <tr>\n",
       "      <th>215</th>\n",
       "      <td>9321495</td>\n",
       "      <td>160793</td>\n",
       "      <td>155500</td>\n",
       "      <td>B</td>\n",
       "      <td>2019-02-20</td>\n",
       "    </tr>\n",
       "    <tr>\n",
       "      <th>380</th>\n",
       "      <td>9321495</td>\n",
       "      <td>160793</td>\n",
       "      <td>155500</td>\n",
       "      <td>A</td>\n",
       "      <td>2019-03-31</td>\n",
       "    </tr>\n",
       "    <tr>\n",
       "      <th>423</th>\n",
       "      <td>9321495</td>\n",
       "      <td>160793</td>\n",
       "      <td>155500</td>\n",
       "      <td>B</td>\n",
       "      <td>2019-04-09</td>\n",
       "    </tr>\n",
       "    <tr>\n",
       "      <th>649</th>\n",
       "      <td>9321495</td>\n",
       "      <td>160793</td>\n",
       "      <td>155500</td>\n",
       "      <td>C</td>\n",
       "      <td>2020-01-22</td>\n",
       "    </tr>\n",
       "    <tr>\n",
       "      <th>859</th>\n",
       "      <td>9321495</td>\n",
       "      <td>160793</td>\n",
       "      <td>155500</td>\n",
       "      <td>B</td>\n",
       "      <td>2020-02-29</td>\n",
       "    </tr>\n",
       "  </tbody>\n",
       "</table>\n",
       "</div>"
      ],
      "text/plain": [
       "         IMO  SHIP_ID     TEU PORT_NAME  TIMESTAMP\n",
       "215  9321495   160793  155500         B 2019-02-20\n",
       "380  9321495   160793  155500         A 2019-03-31\n",
       "423  9321495   160793  155500         B 2019-04-09\n",
       "649  9321495   160793  155500         C 2020-01-22\n",
       "859  9321495   160793  155500         B 2020-02-29"
      ]
     },
     "execution_count": 85,
     "metadata": {},
     "output_type": "execute_result"
    }
   ],
   "source": [
    "vessel_df[vessel_df['IMO']==9321495]"
   ]
  },
  {
   "cell_type": "markdown",
   "metadata": {},
   "source": [
    "Unfortunetely we notice that all the records of the vessel with IMO number 9321495 have been misstyped "
   ]
  },
  {
   "cell_type": "code",
   "execution_count": 89,
   "metadata": {},
   "outputs": [
    {
     "data": {
      "text/html": [
       "<div>\n",
       "<style scoped>\n",
       "    .dataframe tbody tr th:only-of-type {\n",
       "        vertical-align: middle;\n",
       "    }\n",
       "\n",
       "    .dataframe tbody tr th {\n",
       "        vertical-align: top;\n",
       "    }\n",
       "\n",
       "    .dataframe thead th {\n",
       "        text-align: right;\n",
       "    }\n",
       "</style>\n",
       "<table border=\"1\" class=\"dataframe\">\n",
       "  <thead>\n",
       "    <tr style=\"text-align: right;\">\n",
       "      <th></th>\n",
       "      <th>IMO</th>\n",
       "      <th>SHIP_ID</th>\n",
       "      <th>TEU</th>\n",
       "      <th>PORT_NAME</th>\n",
       "      <th>TIMESTAMP</th>\n",
       "    </tr>\n",
       "  </thead>\n",
       "  <tbody>\n",
       "    <tr>\n",
       "      <th>276</th>\n",
       "      <td>9321483</td>\n",
       "      <td>160663</td>\n",
       "      <td>1555</td>\n",
       "      <td>B</td>\n",
       "      <td>2019-03-05</td>\n",
       "    </tr>\n",
       "    <tr>\n",
       "      <th>906</th>\n",
       "      <td>9321483</td>\n",
       "      <td>160663</td>\n",
       "      <td>1555</td>\n",
       "      <td>A</td>\n",
       "      <td>2020-03-10</td>\n",
       "    </tr>\n",
       "    <tr>\n",
       "      <th>1116</th>\n",
       "      <td>9321483</td>\n",
       "      <td>160663</td>\n",
       "      <td>1555</td>\n",
       "      <td>C</td>\n",
       "      <td>2020-04-15</td>\n",
       "    </tr>\n",
       "  </tbody>\n",
       "</table>\n",
       "</div>"
      ],
      "text/plain": [
       "          IMO  SHIP_ID   TEU PORT_NAME  TIMESTAMP\n",
       "276   9321483   160663  1555         B 2019-03-05\n",
       "906   9321483   160663  1555         A 2020-03-10\n",
       "1116  9321483   160663  1555         C 2020-04-15"
      ]
     },
     "execution_count": 89,
     "metadata": {},
     "output_type": "execute_result"
    }
   ],
   "source": [
    "vessel_df[vessel_df['TEU']<10000]"
   ]
  },
  {
   "cell_type": "code",
   "execution_count": 95,
   "metadata": {},
   "outputs": [
    {
     "data": {
      "text/html": [
       "<div>\n",
       "<style scoped>\n",
       "    .dataframe tbody tr th:only-of-type {\n",
       "        vertical-align: middle;\n",
       "    }\n",
       "\n",
       "    .dataframe tbody tr th {\n",
       "        vertical-align: top;\n",
       "    }\n",
       "\n",
       "    .dataframe thead th {\n",
       "        text-align: right;\n",
       "    }\n",
       "</style>\n",
       "<table border=\"1\" class=\"dataframe\">\n",
       "  <thead>\n",
       "    <tr style=\"text-align: right;\">\n",
       "      <th></th>\n",
       "      <th>IMO</th>\n",
       "      <th>SHIP_ID</th>\n",
       "      <th>TEU</th>\n",
       "      <th>PORT_NAME</th>\n",
       "      <th>TIMESTAMP</th>\n",
       "    </tr>\n",
       "  </thead>\n",
       "  <tbody>\n",
       "    <tr>\n",
       "      <th>276</th>\n",
       "      <td>9321483</td>\n",
       "      <td>160663</td>\n",
       "      <td>1555</td>\n",
       "      <td>B</td>\n",
       "      <td>2019-03-05</td>\n",
       "    </tr>\n",
       "    <tr>\n",
       "      <th>906</th>\n",
       "      <td>9321483</td>\n",
       "      <td>160663</td>\n",
       "      <td>1555</td>\n",
       "      <td>A</td>\n",
       "      <td>2020-03-10</td>\n",
       "    </tr>\n",
       "    <tr>\n",
       "      <th>1116</th>\n",
       "      <td>9321483</td>\n",
       "      <td>160663</td>\n",
       "      <td>1555</td>\n",
       "      <td>C</td>\n",
       "      <td>2020-04-15</td>\n",
       "    </tr>\n",
       "  </tbody>\n",
       "</table>\n",
       "</div>"
      ],
      "text/plain": [
       "          IMO  SHIP_ID   TEU PORT_NAME  TIMESTAMP\n",
       "276   9321483   160663  1555         B 2019-03-05\n",
       "906   9321483   160663  1555         A 2020-03-10\n",
       "1116  9321483   160663  1555         C 2020-04-15"
      ]
     },
     "execution_count": 95,
     "metadata": {},
     "output_type": "execute_result"
    }
   ],
   "source": [
    "vessel_df[vessel_df['IMO']==9321483]"
   ]
  },
  {
   "cell_type": "markdown",
   "metadata": {},
   "source": [
    "Unfortunetely we notice that all the records of the vessel with IMO number 9321483 have been misstyped "
   ]
  },
  {
   "cell_type": "markdown",
   "metadata": {},
   "source": [
    "In that case we would try to replace the TEU value with the mean TEU value group by PORT_NAME (after excluded the outliners from the calculation of the mean)"
   ]
  },
  {
   "cell_type": "code",
   "execution_count": 116,
   "metadata": {},
   "outputs": [
    {
     "data": {
      "text/plain": [
       "PORT_NAME\n",
       "A    18313.301818\n",
       "B    18166.634921\n",
       "C    18040.973404\n",
       "D    18363.858974\n",
       "Name: TEU, dtype: float64"
      ]
     },
     "execution_count": 116,
     "metadata": {},
     "output_type": "execute_result"
    }
   ],
   "source": [
    "mean_teu_per_port = vessel_df[~((vessel_df['IMO']==9321483) | (vessel_df['IMO']==9321495))].groupby(by='PORT_NAME').mean()['TEU']\n",
    "mean_teu_per_port"
   ]
  },
  {
   "cell_type": "code",
   "execution_count": 127,
   "metadata": {},
   "outputs": [],
   "source": [
    "def my_f(x,y):\n",
    "    if (x > 30000) or (x < 10000):\n",
    "        if y == 'A':\n",
    "            return round(mean_teu_per_port['A'])\n",
    "        if y == 'B':\n",
    "            return round(mean_teu_per_port['B'])\n",
    "        if y == 'C':\n",
    "            return round(mean_teu_per_port['C'])\n",
    "        if y == 'D':\n",
    "            return round(mean_teu_per_port['D'])\n",
    "    else:\n",
    "        return x     "
   ]
  },
  {
   "cell_type": "code",
   "execution_count": 132,
   "metadata": {},
   "outputs": [],
   "source": [
    "vessel_df['TEU'] = vessel_df[['TEU','PORT_NAME']].apply(lambda row: my_f(row['TEU'], row['PORT_NAME']), axis=1)"
   ]
  },
  {
   "cell_type": "code",
   "execution_count": 133,
   "metadata": {},
   "outputs": [
    {
     "data": {
      "image/png": "[encoded data removed]",
      "text/plain": [
       "<Figure size 1224x360 with 2 Axes>"
      ]
     },
     "metadata": {},
     "output_type": "display_data"
    }
   ],
   "source": [
    "fig, axes = plt.subplots(1,2,figsize=(17,5))\n",
    "sns.histplot(data = vessel_df, \n",
    "             x= 'TEU',\n",
    "             element='bars',\n",
    "             stat='count',\n",
    "            bins=40,\n",
    "            ax=axes[0])\n",
    "sns.boxplot(data = vessel_df, x = 'TEU',ax=axes[1]);"
   ]
  },
  {
   "cell_type": "code",
   "execution_count": 134,
   "metadata": {},
   "outputs": [
    {
     "data": {
      "text/plain": [
       "count     1202.000000\n",
       "mean     18226.925125\n",
       "std       2349.485266\n",
       "min      14500.000000\n",
       "25%      15908.000000\n",
       "50%      18800.000000\n",
       "75%      20000.000000\n",
       "max      23756.000000\n",
       "Name: TEU, dtype: float64"
      ]
     },
     "execution_count": 134,
     "metadata": {},
     "output_type": "execute_result"
    }
   ],
   "source": [
    "vessel_df['TEU'].describe()"
   ]
  }
 ],
 "metadata": {
  "kernelspec": {
   "display_name": "marine_traffic_venv",
   "language": "python",
   "name": "marine_traffic_venv"
  },
  "language_info": {
   "codemirror_mode": {
    "name": "ipython",
    "version": 3
   },
   "file_extension": ".py",
   "mimetype": "text/x-python",
   "name": "python",
   "nbconvert_exporter": "python",
   "pygments_lexer": "ipython3",
   "version": "3.9.1"
  }
 },
 "nbformat": 4,
 "nbformat_minor": 4
}
